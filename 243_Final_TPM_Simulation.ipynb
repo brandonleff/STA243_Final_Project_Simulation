{
 "cells": [
  {
   "cell_type": "code",
   "execution_count": 1,
   "id": "22705bf6",
   "metadata": {},
   "outputs": [],
   "source": [
    "import numpy as np\n",
    "import matplotlib.pyplot as plt\n",
    "import pandas as pd"
   ]
  },
  {
   "cell_type": "code",
   "execution_count": 2,
   "id": "bb592b55",
   "metadata": {},
   "outputs": [],
   "source": [
    "def tpm(A,v0,k,eps= 1e-6,maxiter=50000):\n",
    "    # set t iterations to 0\n",
    "    t = 0\n",
    "    # for first iteration, set current vector to be initial\n",
    "    v_c = v0\n",
    "    # define q to be length - k\n",
    "    q = len(v0) - k\n",
    "    for i in range(maxiter):\n",
    "        # find Ax/norm(Ax)\n",
    "        v_cp = np.dot(A,v_c)/np.linalg.norm(np.dot(A,v_c))\n",
    "        # find inidices of q lowest values\n",
    "        F_idx = np.sort(np.argpartition(v_cp,q)[:q])\n",
    "        # set q lowest entries to 0\n",
    "        v_cp[F_idx] = 0\n",
    "        # normalize after truncating\n",
    "        v_cp = v_cp/np.linalg.norm(v_cp)\n",
    "        #print(v_cp)\n",
    "        t +=1\n",
    "        # termination criterion\n",
    "        if np.abs(max(np.abs(v_c)) - max(np.abs(v_cp))) < eps:\n",
    "            break\n",
    "        v_c = v_cp\n",
    "    return t"
   ]
  },
  {
   "cell_type": "markdown",
   "id": "6639d974",
   "metadata": {},
   "source": [
    "## Final Code run for averaging out simulation convergence rate"
   ]
  },
  {
   "cell_type": "code",
   "execution_count": 3,
   "id": "6c260c0a",
   "metadata": {},
   "outputs": [],
   "source": [
    "kbar_t = []\n",
    "klarge_t = []\n",
    "c0_t = []\n",
    "cclose_t = []\n",
    "gapsmall_t = []\n",
    "gaplarge_t = []\n",
    "for q in range(1000):\n",
    "    np.random.seed(2022+q)\n",
    "    v1_l = np.random.uniform(0,1,4)\n",
    "    v2_l = np.random.uniform(0,1,4)\n",
    "    v1 = np.array([v1_l[0]]*5+[0]*480+[v1_l[1]]*5+[v1_l[2]]*5+[v1_l[3]]*5)\n",
    "    v1 = v1/np.linalg.norm(v1)\n",
    "    v2 = np.array([v2_l[0]]*5+[v2_l[1]]*5+[0]*480+[v2_l[2]]*5+[v2_l[3]]*5)\n",
    "    v2 = v2/np.linalg.norm(v2)\n",
    "    evals = np.array([200]+[100]+[50]*2+[10]+[5]+[1]*494)\n",
    "    kbar = 1000 - sum(v1 == 0)\n",
    "    # assign matrix where first 2 columns are dominant eigenvecs\n",
    "    mat = np.zeros((500,500))\n",
    "    mat[:,0] = v1\n",
    "    mat[:,1] = v2\n",
    "    # assign rest of eigenvectos to be randomly drawn from U(0,1)\n",
    "    for i in range(498):\n",
    "        mat[:,i+2] = np.random.uniform(0,1,size=500)\n",
    "    V,nn = np.linalg.qr(mat)\n",
    "    C = np.diag(evals)\n",
    "    sigma = V@C@V.T\n",
    "    for i in range(500):\n",
    "        for j in range(500):\n",
    "            if sigma[i,j] < 1e-10:\n",
    "                sigma[i,j] = 0\n",
    "    c0 = np.array([1]+[0]*499)\n",
    "    # eigenvalue gap simulation\n",
    "    evec_l = np.array([500]+[100]+[1]*498)\n",
    "    C_l = np.diag(evec_l)\n",
    "    evec_s = np.array([500]+[490]+[1]*498)\n",
    "    C_s = np.diag(evec_s)\n",
    "    sigma_l = V@C_l@V.T\n",
    "    sigma_s = V@C_s@V.T\n",
    "    gapsmall_t = np.append(gapsmall_t,tpm(sigma_s,c0,eps = 1e-8,k=kbar))\n",
    "    gaplarge_t = np.append(gaplarge_t,tpm(sigma_l,c0,eps = 1e-8,k=kbar))\n",
    "    \n",
    "    # simulation for kbar vs large k\n",
    "    \n",
    "    kbar_t = np.append(kbar_t,tpm(sigma,c0,eps=1e-8,k=kbar))\n",
    "    klarge_t = np.append(klarge_t,tpm(sigma,c0,eps=1e-8,k=400))\n",
    "    \n",
    "    # simulation for good initial\n",
    "    cls_val = v1-0.001\n",
    "    c0_t = np.append(c0_t,tpm(sigma,c0,eps=1e-8,k=kbar))\n",
    "    cclose_t = np.append(cclose_t,tpm(sigma,cls_val,eps=1e-8,k=kbar))"
   ]
  },
  {
   "cell_type": "markdown",
   "id": "3908c573",
   "metadata": {},
   "source": [
    "## Calculating Metrics for Simulations"
   ]
  },
  {
   "cell_type": "code",
   "execution_count": 4,
   "id": "91a321d4",
   "metadata": {},
   "outputs": [],
   "source": [
    "avg_kbar_t = np.sum(kbar_t)/1000\n",
    "avg_klarge_t = np.sum(klarge_t)/1000\n",
    "avg_c0_t = np.sum(c0_t)/1000\n",
    "avg_cclose_t = np.sum(cclose_t)/1000\n",
    "avg_gapsmall_t = np.sum(gapsmall_t)/1000\n",
    "avg_gaplarge_t = np.sum(gaplarge_t)/1000\n",
    "\n",
    "avg_pct_k = np.sum((klarge_t/kbar_t))/1000\n",
    "avg_pct_c = np.sum((c0_t/cclose_t))/1000\n",
    "avg_pct_g = np.sum((gapsmall_t/gaplarge_t))/1000"
   ]
  },
  {
   "cell_type": "code",
   "execution_count": 5,
   "id": "dd22f91d",
   "metadata": {},
   "outputs": [
    {
     "data": {
      "text/plain": [
       "15.962"
      ]
     },
     "execution_count": 5,
     "metadata": {},
     "output_type": "execute_result"
    }
   ],
   "source": [
    "avg_kbar_t"
   ]
  },
  {
   "cell_type": "code",
   "execution_count": 6,
   "id": "8d1197c0",
   "metadata": {},
   "outputs": [
    {
     "data": {
      "text/plain": [
       "19.49"
      ]
     },
     "execution_count": 6,
     "metadata": {},
     "output_type": "execute_result"
    }
   ],
   "source": [
    "avg_klarge_t"
   ]
  },
  {
   "cell_type": "code",
   "execution_count": 7,
   "id": "82f367b6",
   "metadata": {},
   "outputs": [
    {
     "data": {
      "text/plain": [
       "1.333942553893251"
      ]
     },
     "execution_count": 7,
     "metadata": {},
     "output_type": "execute_result"
    }
   ],
   "source": [
    "avg_pct_k"
   ]
  },
  {
   "cell_type": "code",
   "execution_count": 8,
   "id": "92f8c64f",
   "metadata": {},
   "outputs": [
    {
     "data": {
      "text/plain": [
       "15.962"
      ]
     },
     "execution_count": 8,
     "metadata": {},
     "output_type": "execute_result"
    }
   ],
   "source": [
    "avg_c0_t"
   ]
  },
  {
   "cell_type": "code",
   "execution_count": 9,
   "id": "a3f6d326",
   "metadata": {},
   "outputs": [
    {
     "data": {
      "text/plain": [
       "11.335"
      ]
     },
     "execution_count": 9,
     "metadata": {},
     "output_type": "execute_result"
    }
   ],
   "source": [
    "avg_cclose_t"
   ]
  },
  {
   "cell_type": "code",
   "execution_count": 10,
   "id": "c2f2dd64",
   "metadata": {},
   "outputs": [
    {
     "data": {
      "text/plain": [
       "1.4582388945935385"
      ]
     },
     "execution_count": 10,
     "metadata": {},
     "output_type": "execute_result"
    }
   ],
   "source": [
    "avg_pct_c"
   ]
  },
  {
   "cell_type": "code",
   "execution_count": 11,
   "id": "76fd0dcb",
   "metadata": {},
   "outputs": [
    {
     "data": {
      "text/plain": [
       "100.123"
      ]
     },
     "execution_count": 11,
     "metadata": {},
     "output_type": "execute_result"
    }
   ],
   "source": [
    "avg_gapsmall_t"
   ]
  },
  {
   "cell_type": "code",
   "execution_count": 12,
   "id": "e13f082a",
   "metadata": {},
   "outputs": [
    {
     "data": {
      "text/plain": [
       "9.158"
      ]
     },
     "execution_count": 12,
     "metadata": {},
     "output_type": "execute_result"
    }
   ],
   "source": [
    "avg_gaplarge_t"
   ]
  },
  {
   "cell_type": "code",
   "execution_count": 13,
   "id": "4d53fc39",
   "metadata": {},
   "outputs": [
    {
     "data": {
      "text/plain": [
       "10.614318065268067"
      ]
     },
     "execution_count": 13,
     "metadata": {},
     "output_type": "execute_result"
    }
   ],
   "source": [
    "avg_pct_g"
   ]
  },
  {
   "cell_type": "code",
   "execution_count": null,
   "id": "2bc4c19a",
   "metadata": {},
   "outputs": [],
   "source": []
  }
 ],
 "metadata": {
  "kernelspec": {
   "display_name": "Python 3",
   "language": "python",
   "name": "python3"
  },
  "language_info": {
   "codemirror_mode": {
    "name": "ipython",
    "version": 3
   },
   "file_extension": ".py",
   "mimetype": "text/x-python",
   "name": "python",
   "nbconvert_exporter": "python",
   "pygments_lexer": "ipython3",
   "version": "3.8.8"
  }
 },
 "nbformat": 4,
 "nbformat_minor": 5
}
